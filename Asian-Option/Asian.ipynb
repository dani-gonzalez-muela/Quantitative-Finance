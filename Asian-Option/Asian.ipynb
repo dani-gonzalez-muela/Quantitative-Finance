{
 "cells": [
  {
   "cell_type": "code",
   "execution_count": 791,
   "id": "b8b94086",
   "metadata": {},
   "outputs": [],
   "source": [
    "import numpy as np\n",
    "import matplotlib.pyplot as plt"
   ]
  },
  {
   "cell_type": "markdown",
   "id": "0d0e9259",
   "metadata": {},
   "source": [
    "#### Parameters"
   ]
  },
  {
   "cell_type": "code",
   "execution_count": 792,
   "id": "32b0cc57",
   "metadata": {},
   "outputs": [],
   "source": [
    "T=1\n",
    "S0=100\n",
    "Q0=0\n",
    "r=0.3\n",
    "sigma=0.1\n",
    "K=105"
   ]
  },
  {
   "cell_type": "markdown",
   "id": "54bb7364",
   "metadata": {},
   "source": [
    "### 1. Finite Difference Scheme"
   ]
  },
  {
   "cell_type": "markdown",
   "id": "b2ac1132",
   "metadata": {},
   "source": [
    "Time partition"
   ]
  },
  {
   "cell_type": "code",
   "execution_count": 793,
   "id": "97f626e0",
   "metadata": {},
   "outputs": [],
   "source": [
    "#Time partition [0,T]\n",
    "n=1000 #steps\n",
    "delta_t=T/n\n",
    "time=np.zeros(n+1)\n",
    "for i in range (1,n+1):\n",
    "    time[i]=time[i-1]+delta_t\n",
    "\n",
    "#Space partition [-Z, Z]\n",
    "Z=100\n",
    "m=1000\n",
    "delta_z=(2*Z)/m\n",
    "space=np.zeros(m+1)\n",
    "space[0]=-Z\n",
    "for j in range (1,m+1):\n",
    "    space[j]=space[j-1]+delta_z\n",
    "\n",
    "#uniform spatial partition\n",
    "d=delta_t/(delta_z*delta_z)\n",
    "\n",
    "#Boundary conditions\n",
    "A=np.zeros((n+1,m+1))\n",
    "\n",
    "#the first and last column are 0, so we dont have to do anything\n",
    "#the first row u(0,z)=z (first and last value=0)\n",
    "for j in range (0,m+1):\n",
    "    var=space[j]\n",
    "    if var<0:\n",
    "        var=0\n",
    "    A[0][j]=var\n",
    "\n",
    "for i in range(0,n+1):\n",
    "    A[i][1000]=space[1000]"
   ]
  },
  {
   "cell_type": "markdown",
   "id": "f43b040a",
   "metadata": {},
   "source": [
    "Solve with finite method"
   ]
  },
  {
   "cell_type": "code",
   "execution_count": 794,
   "id": "a694a9eb",
   "metadata": {},
   "outputs": [],
   "source": [
    "gamma=(1-np.exp(-r*time))/(r*T)\n",
    "\n",
    "for i in range(1,n+1): #start at 1 and finish at n\n",
    "    gamma_t=gamma[i] #the gamma given at each time\n",
    "    for j in range(1,m): #start at m=1 and finish at m-1 (0 and m = boundary conditions)\n",
    "        a=((sigma*sigma)/2)*((gamma_t-space[j])**2)\n",
    "        b=d\n",
    "        c=A[i-1,j+1]-2*A[i-1,j]+A[i-1,j-1]\n",
    "        A[i][j]=A[i-1,j] + (a*b*c)"
   ]
  },
  {
   "cell_type": "code",
   "execution_count": 6,
   "id": "e347515a",
   "metadata": {},
   "outputs": [],
   "source": [
    "t=0\n",
    "t_change=T-t\n",
    "index_i=int(t_change/delta_t)\n",
    "\n",
    "index_j=(((1/(r*T))*(1-np.exp(-r*(T-t_change)))) + \n",
    "         ((np.exp(-r*(T-t_change))/S0) * ((Q0/T)-K)))\n",
    "index_j=int(index_j/delta_z)"
   ]
  },
  {
   "cell_type": "code",
   "execution_count": 17,
   "id": "d469efa8",
   "metadata": {},
   "outputs": [
    {
     "name": "stdout",
     "output_type": "stream",
     "text": [
      "100\n"
     ]
    }
   ],
   "source": [
    "call=S0*A[index_i,index_j]"
   ]
  },
  {
   "cell_type": "markdown",
   "id": "c3649f5c",
   "metadata": {},
   "source": [
    "### 2. Plots"
   ]
  },
  {
   "cell_type": "markdown",
   "id": "9b2bcd4c",
   "metadata": {},
   "source": [
    "Black-Scholes price"
   ]
  },
  {
   "cell_type": "code",
   "execution_count": 844,
   "id": "64d0d998",
   "metadata": {},
   "outputs": [],
   "source": [
    "#function for computing Black Scholes price\n",
    "from scipy import stats\n",
    "def bs_price(T,S0,r,sigma,K):\n",
    "    \n",
    "    d1=np.log(S0/K) + (r+(sigma*sigma)/2)*T\n",
    "    d1=d1/(sigma*np.sqrt(T))\n",
    "    if (np.isinf(d1).any())==True:\n",
    "        return -1\n",
    "      #  return np.nan()\n",
    "\n",
    "    d2=d1 - sigma*np.sqrt(T)\n",
    "\n",
    "    vanilla_call=S0*stats.norm.cdf(d1)- K*np.exp(-r*T)*stats.norm.cdf(d2)\n",
    "    vanilla_put=K*np.exp(-r*T)*stats.norm.cdf(-d2)-S0*stats.norm.cdf(-d1)\n",
    "    return vanilla_call, vanilla_put"
   ]
  },
  {
   "cell_type": "markdown",
   "id": "1be63681",
   "metadata": {},
   "source": [
    "Accrued Monte Carlo"
   ]
  },
  {
   "cell_type": "code",
   "execution_count": 845,
   "id": "72a611ea",
   "metadata": {},
   "outputs": [],
   "source": [
    "def simulate(T,S0,r,sigma,K):\n",
    "    n=1000 #steps\n",
    "    delta_t=T/n\n",
    "    time=np.zeros(n+1)\n",
    "    S=np.zeros(n+1)\n",
    "    Q=np.zeros(n+1)\n",
    "    for i in range (1,n+1):\n",
    "        time[i]=time[i-1]+delta_t\n",
    "    S[0]=S0\n",
    "    Q[0]=0\n",
    "\n",
    "    #simulate S and Q\n",
    "    for i in range (1,n+1):\n",
    "        W=np.random.normal(0,np.sqrt(delta_t))\n",
    "        dS=(r*S[i-1]*delta_t)+(sigma*S[i-1]*W)\n",
    "        dQ=S[i-1]*delta_t\n",
    "        S[i]=S[i-1]+dS\n",
    "        Q[i]=Q[i-1]+dQ\n",
    "    return Q[-1]"
   ]
  },
  {
   "cell_type": "code",
   "execution_count": 846,
   "id": "77d6ea33",
   "metadata": {},
   "outputs": [],
   "source": [
    "T=1\n",
    "S0=100\n",
    "Q0=0\n",
    "r=0.3\n",
    "sigma=0.1\n",
    "K=105\n",
    "\n",
    "simulations=10000"
   ]
  },
  {
   "cell_type": "code",
   "execution_count": 847,
   "id": "809bcfe8",
   "metadata": {},
   "outputs": [
    {
     "name": "stdout",
     "output_type": "stream",
     "text": [
      "8.6891944456092 0.06781230313667787\n"
     ]
    }
   ],
   "source": [
    "def price(simulations,T,S0,r,sigma,K):\n",
    "    payoffs_call=np.zeros(simulations)\n",
    "    payoffs_put=np.zeros(simulations)\n",
    "    for i in range(simulations):\n",
    "        Q=simulate(T,S0,r,sigma,K)\n",
    "        payoffs_call[i]=np.exp(-r*(T)) * max((Q/T)-K,0)\n",
    "        payoffs_put[i]=np.exp(-r*(T)) * max(K-(Q/T),0)\n",
    "    \n",
    "    return np.mean(payoffs_call),np.mean(payoffs_put)\n",
    "\n",
    "call,put= price(simulations,T,S0,r,sigma,K)\n",
    "print(call,put)"
   ]
  },
  {
   "cell_type": "markdown",
   "id": "2e3688c6",
   "metadata": {},
   "source": [
    "Volatility plots"
   ]
  },
  {
   "cell_type": "code",
   "execution_count": 777,
   "id": "d6ca6c18",
   "metadata": {},
   "outputs": [],
   "source": [
    "T=1\n",
    "S0=100\n",
    "Q0=0\n",
    "r=0.3\n",
    "K=105\n",
    "\n",
    "simulations=1000"
   ]
  },
  {
   "cell_type": "code",
   "execution_count": 778,
   "id": "a445a6d5",
   "metadata": {},
   "outputs": [],
   "source": [
    "volatility=np.arange(0.1,0.6,0.05)\n",
    "asian_call=np.zeros(volatility.size)\n",
    "asian_put=np.zeros(volatility.size)\n",
    "european_call=np.zeros(volatility.size)\n",
    "european_put=np.zeros(volatility.size)\n",
    "\n",
    "i=0\n",
    "for vol in volatility:\n",
    "    asian_call[i],asian_put[i]=price(simulations,T,S0,r,vol,K)\n",
    "    european_call[i], european_put[i]=bs_price(T,S0,r,vol,K)\n",
    "    i+=1"
   ]
  },
  {
   "cell_type": "code",
   "execution_count": 853,
   "id": "9f014079",
   "metadata": {},
   "outputs": [
    {
     "data": {
      "image/png": "[encoded data removed]",
      "text/plain": [
       "<Figure size 540x252 with 1 Axes>"
      ]
     },
     "metadata": {
      "needs_background": "light"
     },
     "output_type": "display_data"
    },
    {
     "data": {
      "image/png": "[encoded data removed]",
      "text/plain": [
       "<Figure size 540x252 with 1 Axes>"
      ]
     },
     "metadata": {
      "needs_background": "light"
     },
     "output_type": "display_data"
    }
   ],
   "source": [
    "#Calls\n",
    "plt.rcParams[\"figure.figsize\"] = [7.50, 3.50]\n",
    "plt.rcParams[\"figure.autolayout\"] = True\n",
    "plt.title(\"Call option vs Volatility\")\n",
    "# plot lines \n",
    "plt.plot(volatility, asian_call, label = \"Asian call\") \n",
    "plt.plot(volatility, european_call, label = \"European call\") \n",
    "plt.xlabel(\"Volatility\")\n",
    "plt.ylabel(\"Price\")\n",
    "plt.legend() \n",
    "plt.savefig(\"Call-vol.png\")           \n",
    "plt.show()\n",
    "\n",
    "\n",
    "#Puts\n",
    "plt.rcParams[\"figure.figsize\"] = [7.50, 3.50]\n",
    "plt.rcParams[\"figure.autolayout\"] = True\n",
    "plt.title(\"Put option vs volatility\")\n",
    "# plot lines \n",
    "plt.plot(volatility, asian_put, label = \"Asian put\") \n",
    "plt.plot(volatility, european_put, label = \"European put\") \n",
    "plt.xlabel(\"Volatility\")\n",
    "plt.ylabel(\"Price\")\n",
    "plt.legend() \n",
    "plt.savefig(\"Put-Vol.png\")\n",
    "plt.show()"
   ]
  },
  {
   "cell_type": "markdown",
   "id": "ee3324a2",
   "metadata": {},
   "source": [
    "Price plots"
   ]
  },
  {
   "cell_type": "code",
   "execution_count": 787,
   "id": "4b8ff2c3",
   "metadata": {},
   "outputs": [],
   "source": [
    "T=1\n",
    "Q0=0\n",
    "r=0.3\n",
    "K=105\n",
    "sigma=0.1\n",
    "\n",
    "simulations=1000"
   ]
  },
  {
   "cell_type": "code",
   "execution_count": 854,
   "id": "64f2b7bf",
   "metadata": {},
   "outputs": [
    {
     "data": {
      "image/png": "[encoded data removed]",
      "text/plain": [
       "<Figure size 540x252 with 1 Axes>"
      ]
     },
     "metadata": {
      "needs_background": "light"
     },
     "output_type": "display_data"
    },
    {
     "data": {
      "image/png": "[encoded data removed]",
      "text/plain": [
       "<Figure size 540x252 with 1 Axes>"
      ]
     },
     "metadata": {
      "needs_background": "light"
     },
     "output_type": "display_data"
    }
   ],
   "source": [
    "#Calls\n",
    "plt.rcParams[\"figure.figsize\"] = [7.50, 3.50]\n",
    "plt.rcParams[\"figure.autolayout\"] = True\n",
    "plt.title(\"Call option vs S0\")\n",
    "# plot lines \n",
    "plt.plot(price_p, asian_call_p, label = \"Asian call\") \n",
    "plt.plot(price_p, european_call_p, label = \"European call\") \n",
    "plt.legend() \n",
    "plt.xlabel(\"S0\")\n",
    "plt.ylabel(\"Price\")\n",
    "plt.savefig(\"Call-S0.png\")\n",
    "plt.show()\n",
    "\n",
    "\n",
    "#Puts\n",
    "plt.rcParams[\"figure.figsize\"] = [7.50, 3.50]\n",
    "plt.rcParams[\"figure.autolayout\"] = True\n",
    "plt.title(\"Put option vs S0\")\n",
    "# plot lines \n",
    "plt.plot(price_p, asian_put_p, label = \"Asian put\") \n",
    "plt.plot(price_p, european_put_p, label = \"European put\") \n",
    "plt.legend() \n",
    "plt.xlabel(\"S0\")\n",
    "plt.ylabel(\"Price\")\n",
    "plt.savefig(\"Put-S0.png\")\n",
    "plt.show()"
   ]
  },
  {
   "cell_type": "markdown",
   "id": "ad2956f5",
   "metadata": {},
   "source": [
    "Call-put parity"
   ]
  },
  {
   "cell_type": "code",
   "execution_count": 786,
   "id": "7c1a28d0",
   "metadata": {},
   "outputs": [
    {
     "name": "stdout",
     "output_type": "stream",
     "text": [
      "0.022879996367332824\n"
     ]
    }
   ],
   "source": [
    "T=1\n",
    "S0=100\n",
    "Q0=0\n",
    "r=0.3\n",
    "K=105\n",
    "\n",
    "parity=0\n",
    "for i in range(np.size(asian_call)):    \n",
    "    a=asian_call[i]-asian_put[i]\n",
    "    b=(Q0/T)*np.exp(-r*T) + (S0/(r*T))*(1-np.exp(-r*T)) - K*np.exp(-r*T)\n",
    "    parity=parity+(a-b)\n",
    "\n",
    "print(parity/np.size(asian_call))"
   ]
  },
  {
   "cell_type": "markdown",
   "id": "71cbb2a0",
   "metadata": {},
   "source": [
    "Control Variate"
   ]
  },
  {
   "cell_type": "code",
   "execution_count": 327,
   "id": "8f5de969",
   "metadata": {},
   "outputs": [
    {
     "name": "stdout",
     "output_type": "stream",
     "text": [
      "8.31539747127638\n"
     ]
    }
   ],
   "source": [
    "def simulate_cv(T,S0,r,sigma,K):\n",
    "    n=1000 #steps\n",
    "    delta_t=T/n\n",
    "    time=np.zeros(n+1)\n",
    "    S=np.zeros(n+1)\n",
    "    Q=np.zeros(n+1)\n",
    "    for i in range (1,n+1):\n",
    "        time[i]=time[i-1]+delta_t\n",
    "    S[0]=S0\n",
    "    Q[0]=0\n",
    "\n",
    "    #simulate S and Q\n",
    "    for i in range (1,n+1):\n",
    "        W=np.random.normal(0,np.sqrt(delta_t))\n",
    "        dS=(r*S[i-1]*delta_t)+(sigma*S[i-1]*W)\n",
    "        dQ=S[i-1]*delta_t\n",
    "        S[i]=S[i-1]+dS\n",
    "        Q[i]=Q[i-1]+dQ\n",
    "    return Q[-1],S[-1] #use S as control variate\n",
    "\n",
    "simulations=500\n",
    "payoffs=np.zeros(simulations)\n",
    "control_variate_S=np.zeros(simulations)\n",
    "for i in range(simulations):\n",
    "    Q,S=simulate_cv(T,S0,r,sigma,K)\n",
    "    \n",
    "    payoffs[i]=np.exp(-r*(T)) * max((Q/T)-K,0)\n",
    "    control_variate_S[i]=S\n",
    "    \n",
    "c=np.cov(payoffs,control_variate_S)[0][0]/np.var(control_variate_S)\n",
    "exp_S=S0*np.exp(r*T)\n",
    "\n",
    "control_estimator=payoffs+c*(control_variate_S-exp_S)\n",
    "    \n",
    "\n",
    "print(np.mean(control_estimator))"
   ]
  }
 ],
 "metadata": {
  "kernelspec": {
   "display_name": "Python 3 (ipykernel)",
   "language": "python",
   "name": "python3"
  },
  "language_info": {
   "codemirror_mode": {
    "name": "ipython",
    "version": 3
   },
   "file_extension": ".py",
   "mimetype": "text/x-python",
   "name": "python",
   "nbconvert_exporter": "python",
   "pygments_lexer": "ipython3",
   "version": "3.9.12"
  }
 },
 "nbformat": 4,
 "nbformat_minor": 5
}
