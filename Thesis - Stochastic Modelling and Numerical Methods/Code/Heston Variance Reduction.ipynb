{
 "cells": [
  {
   "cell_type": "code",
   "execution_count": 1,
   "metadata": {},
   "outputs": [],
   "source": [
    "import numpy as np\n",
    "import matplotlib.pyplot as plt\n",
    "import random\n",
    "from scipy import stats\n",
    "import time"
   ]
  },
  {
   "cell_type": "markdown",
   "metadata": {},
   "source": [
    "### Heston model Monte Carlo simulation"
   ]
  },
  {
   "cell_type": "markdown",
   "metadata": {},
   "source": [
    "The parameters of the Heston model will be:\n",
    "- Initial price of the stock/$S_0$: 250\n",
    "- Initial volatility/$sigma_0$: 0.04\n",
    "- r: 0\n",
    "- k: 1\n",
    "- $theta$: 0.09\n",
    "- Volvol/$alpha$: 0.3\n",
    "- p: -0.5\n",
    "- K: 270\n",
    "- T: 1 year, with 1000 steps \n"
   ]
  },
  {
   "cell_type": "code",
   "execution_count": 2,
   "metadata": {},
   "outputs": [],
   "source": [
    "L=50 #simulated options\n",
    "M=50#prices per option\n",
    "\n",
    "#time\n",
    "T=1\n",
    "n=1000\n",
    "\n",
    "\n",
    "#parameters \n",
    "initial_price=250\n",
    "initial_vol=0.3\n",
    "r=0.01\n",
    "k=1\n",
    "theta=0.09\n",
    "volvol=0.3\n",
    "p=-0.5\n",
    "K=270\n"
   ]
  },
  {
   "cell_type": "markdown",
   "metadata": {},
   "source": [
    "### Accrued Monte Carlo"
   ]
  },
  {
   "cell_type": "markdown",
   "metadata": {},
   "source": [
    "Asset S following the Heston model"
   ]
  },
  {
   "cell_type": "markdown",
   "metadata": {},
   "source": [
    "$dv_t = k(\\theta - v_t)dt + \\alpha \\sqrt{v_t} dZ_t $\n",
    "\n",
    "$dW_t= pdZ_t + \\sqrt{1-p^2}dB_t$\n",
    "\n",
    "$dS_t = r S_tdt + \\sqrt v_t S_t dW_t  $"
   ]
  },
  {
   "cell_type": "code",
   "execution_count": 3,
   "metadata": {},
   "outputs": [],
   "source": [
    "#initial volatility, volvol, initial_price, free rate, correlation\n",
    "def Heston_accrued_Euler(initial_price, initial_vol, r, k, theta, volvol, T, p):\n",
    "    T=T\n",
    "    n=1000\n",
    "    dt=T/n\n",
    "    \n",
    "    time=[0]*n\n",
    "    v=[0]*n\n",
    "    v[0]=initial_vol\n",
    "    Zt=[0]*n\n",
    "    dZ=[0]*n\n",
    "    Bt=[0]*n\n",
    "    S=[0]*n\n",
    "    S[0]=initial_price\n",
    "    \n",
    "    for i in range(1,n):\n",
    "        #update time\n",
    "        time[i]=time[i-1]+dt\n",
    "        \n",
    "        #generate volatility\n",
    "        Zt[i]=Zt[i-1]+np.random.normal(0,np.sqrt(dt))\n",
    "        dZ[i-1]=Zt[i]-Zt[i-1]\n",
    "        \n",
    "        vol_drift=k*(theta-v[i-1])\n",
    "        dv=vol_drift*dt + (volvol*np.sqrt(v[i-1])*(dZ[i-1]))\n",
    "        v[i]=v[i-1]+dv  \n",
    "        \n",
    "        #Euler scheme\n",
    "        if v[i]<0:\n",
    "            v[i]=0\n",
    "    \n",
    "        #generate the correlated brownian dW\n",
    "        Bt[i]=Bt[i-1]+np.random.normal(0,np.sqrt(dt))\n",
    "        dB=Bt[i]-Bt[i-1]\n",
    "        \n",
    "        #generate stock price\n",
    "        dS=r*S[i-1]*dt + (np.sqrt(v[i-1])*S[i-1]*(p*dZ[i-1] + np.sqrt(1-p**2)*dB))\n",
    "        S[i]=S[i-1]+dS\n",
    "                       \n",
    "    return S\n",
    "\n",
    "def Heston_accrued_Milstein(initial_price, initial_vol, r, k, theta, volvol, T, p):\n",
    "    T=T\n",
    "    n=1000\n",
    "    dt=T/n\n",
    "    \n",
    "    time=[0]*n\n",
    "    v=[0]*n\n",
    "    v[0]=initial_vol\n",
    "    Zt=[0]*n\n",
    "    dZ=[0]*n\n",
    "    Bt=[0]*n\n",
    "    S=[0]*n\n",
    "    S[0]=initial_price\n",
    "    \n",
    "    for i in range(1,n):\n",
    "        #update time\n",
    "        time[i]=time[i-1]+dt\n",
    "        \n",
    "        #generate volatility\n",
    "        Zt[i]=Zt[i-1]+np.random.normal(0,np.sqrt(dt))\n",
    "        dZ[i-1]=Zt[i]-Zt[i-1]\n",
    "        \n",
    "        vol_drift=k*(theta-v[i-1])\n",
    "        #computing dv according to Milschein scheme\n",
    "        dv=vol_drift*dt + (volvol*np.sqrt(v[i-1])*dZ[i-1]) + ((volvol*volvol)/4)*((dZ[i-1]**2)-dt)\n",
    "        v[i]=v[i-1]+dv \n",
    "    \n",
    "        #generate the correlated brownian dW\n",
    "        Bt[i]=Bt[i-1]+np.random.normal(0,np.sqrt(dt))\n",
    "        dB=Bt[i]-Bt[i-1]\n",
    "        \n",
    "        #generate stock price\n",
    "        dS=r*S[i-1]*dt + (np.sqrt(v[i-1])*S[i-1]*(p*dZ[i-1] + np.sqrt(1-p**2)*dB))\n",
    "        S[i]=S[i-1]+dS\n",
    "                       \n",
    "    return S"
   ]
  },
  {
   "cell_type": "code",
   "execution_count": 19,
   "metadata": {},
   "outputs": [
    {
     "name": "stdout",
     "output_type": "stream",
     "text": [
      "23.511786222457886\n"
     ]
    }
   ],
   "source": [
    "#simulation for M, L times\n",
    "payoff=np.zeros(M)\n",
    "last_price=np.zeros(M)\n",
    "mean_pay=np.zeros(L)\n",
    "\n",
    "start = time.time()\n",
    "for x in range(L):\n",
    "    for i in range(M):\n",
    "        #compute M paths\n",
    "        last_price[i]=Heston_accrued_Milstein(initial_price, initial_vol,r, k, theta, volvol ,T, p)[-1]\n",
    "        \n",
    "    #computing payoff\n",
    "    payoff=last_price-K\n",
    "    payoff[payoff<0]=0\n",
    "    mean_pay[x]=np.exp(-r*T)*np.mean(payoff)\n",
    "\n",
    "end = time.time()\n",
    "\n",
    "print(end - start)"
   ]
  },
  {
   "cell_type": "markdown",
   "metadata": {},
   "source": [
    "Mean and variance of the option payoff"
   ]
  },
  {
   "cell_type": "code",
   "execution_count": 20,
   "metadata": {},
   "outputs": [
    {
     "name": "stdout",
     "output_type": "stream",
     "text": [
      "39.2714329737421\n",
      "9.859765994292058\n"
     ]
    }
   ],
   "source": [
    "print(np.mean(mean_pay))\n",
    "print(np.std(mean_pay))"
   ]
  },
  {
   "cell_type": "markdown",
   "metadata": {},
   "source": [
    "### Control variate Method"
   ]
  },
  {
   "cell_type": "markdown",
   "metadata": {},
   "source": [
    "$\\theta_c = Y + c (Z - E(Z))$\n",
    "\n",
    "Where \n",
    "\n",
    "$Y= h(S_T)=max(S_T-K,0)$ \n",
    "\n",
    "$Z= S_T $\n",
    "\n",
    "$E(Z)= S_0 exp(rT)=S_0$\n",
    "\n",
    "$c=Cov(h(S_T),S_T)/Var(S_t)$"
   ]
  },
  {
   "cell_type": "code",
   "execution_count": 21,
   "metadata": {},
   "outputs": [
    {
     "name": "stdout",
     "output_type": "stream",
     "text": [
      "23.18173909187317\n"
     ]
    }
   ],
   "source": [
    "payoff=np.zeros(M)\n",
    "last_price=np.zeros(M)\n",
    "mean_pay=np.zeros(L)\n",
    "\n",
    "start = time.time()\n",
    "for x in range(L):\n",
    "    for i in range(M):\n",
    "        #compute M paths\n",
    "            last_price[i]=Heston_accrued_Milstein(initial_price, initial_vol,r, k, theta, volvol ,T, p)[-1]\n",
    "\n",
    "    #computing payoff\n",
    "    payoff=last_price-K\n",
    "    payoff[payoff<0]=0\n",
    "    \n",
    "    #control variate\n",
    "    Y=np.exp(-r*T)*payoff\n",
    "    Z=last_price #our control variate\n",
    "    c=-np.cov(Y,Z)[0][1]/np.var(Z)\n",
    "    control_variate=Y+c*(Z-(initial_price*np.exp(r*T)))\n",
    "    \n",
    "    mean_pay[x]=np.mean(control_variate)\n",
    "\n",
    "end = time.time()\n",
    "\n",
    "print(end-start)"
   ]
  },
  {
   "cell_type": "code",
   "execution_count": 22,
   "metadata": {},
   "outputs": [
    {
     "name": "stdout",
     "output_type": "stream",
     "text": [
      "37.70387553012093\n",
      "5.804881084546249\n"
     ]
    }
   ],
   "source": [
    "print(np.mean(mean_pay))\n",
    "print(np.std(mean_pay))"
   ]
  },
  {
   "cell_type": "markdown",
   "metadata": {},
   "source": [
    "### Antithetic Variates Method"
   ]
  },
  {
   "cell_type": "markdown",
   "metadata": {},
   "source": [
    "$\\hat{\\theta} = (Y + Y2)/2$\n",
    "\n",
    "Where \n",
    "\n",
    "$Y= h(S_T)$ \n",
    "\n",
    "$Y2= h(S_Tneg)$ \n"
   ]
  },
  {
   "cell_type": "code",
   "execution_count": 8,
   "metadata": {},
   "outputs": [],
   "source": [
    "def Heston_antithetic(initial_price, initial_vol,r, k, theta, volvol ,T, p):\n",
    "    n=1000\n",
    "    dt=T/n\n",
    "    \n",
    "    time=[0]*n\n",
    "    Zt=[0]*n\n",
    "    Bt=[0]*n\n",
    "    \n",
    "    v=[0]*n\n",
    "    v[0]=initial_vol\n",
    "    v_neg=[0]*n\n",
    "    v_neg[0]=initial_vol\n",
    " \n",
    "    S=[0]*n\n",
    "    S[0]=initial_price\n",
    "    S_neg=[0]*n #for antithetics\n",
    "    S_neg[0]=initial_price\n",
    "    \n",
    "    #generate the volatility process\n",
    "    for i in range(1,n):\n",
    "        time[i]=time[i-1]+dt#update time\n",
    "        \n",
    "        #volatility process\n",
    "        Zt[i]=Zt[i-1]+np.random.normal(0,np.sqrt(dt))\n",
    "        dZ=Zt[i]-Zt[i-1]\n",
    "        \n",
    "        vol_drift=k*(theta-v[i-1])\n",
    "        dv=vol_drift*dt + (volvol*np.sqrt(v[i-1])*dZ) + ((volvol*volvol)/4)*((dZ**2)-dt)\n",
    "        v[i]=v[i-1]+dv\n",
    "   \n",
    "        vol_drift=k*(theta-v_neg[i-1])\n",
    "        dv_neg=vol_drift*dt + (volvol*np.sqrt(v_neg[i-1])*-dZ) + ((volvol*volvol)/4)*(((-dZ)**2)-dt)\n",
    "        v_neg[i]=v_neg[i-1]+dv_neg  \n",
    "         \n",
    "        #correlated brownian motion dWt and its antithetic\n",
    "        Bt[i]=Bt[i-1]+np.random.normal(0,np.sqrt(dt))\n",
    "        dB=Bt[i]-Bt[i-1]\n",
    "        dW=p*dZ + np.sqrt(1-p**2)*dB\n",
    "        dW_neg=p*-dZ + np.sqrt(1-p**2)*-dB\n",
    "        \n",
    "        #price generation\n",
    "        dS=r*S[i-1]*dt + (np.sqrt(v[i-1])*S[i-1]*(dW))\n",
    "        S[i]=S[i-1]+dS\n",
    "        dS_neg=r*S_neg[i-1]*dt + (np.sqrt(v_neg[i-1])*S_neg[i-1]*(dW_neg))\n",
    "        S_neg[i]=S_neg[i-1]+dS_neg\n",
    "            \n",
    "    return S[-1],S_neg[-1]   "
   ]
  },
  {
   "cell_type": "code",
   "execution_count": 9,
   "metadata": {},
   "outputs": [
    {
     "name": "stdout",
     "output_type": "stream",
     "text": [
      "33.72781801223755\n"
     ]
    }
   ],
   "source": [
    "#simulation for M, L times\n",
    "payoff=np.zeros(M)\n",
    "last_price=np.zeros(M)\n",
    "last_price_antithetic=np.zeros(M)\n",
    "mean_pay=np.zeros(L)\n",
    "\n",
    "start = time.time()\n",
    "for x in range(L):\n",
    "    for i in range(M):\n",
    "        #compute M paths\n",
    "        last_price[i],last_price_antithetic[i]=Heston_antithetic(initial_price, initial_vol,r, k, theta, volvol ,T, p)\n",
    "\n",
    "    #computing payoff\n",
    "    payoff=np.exp(-r*T)*np.maximum(last_price-K,0)\n",
    "    \n",
    "    #computing antithetic payoff\n",
    "    antithetic_payoff=np.exp(-r*T)*np.maximum(last_price_antithetic-K,0)\n",
    "    \n",
    "    #estimator\n",
    "    estimator=(payoff+antithetic_payoff)/2\n",
    "    mean_pay[x]=np.mean(estimator)\n",
    "    \n",
    "end = time.time()\n",
    "\n",
    "print(end-start)"
   ]
  },
  {
   "cell_type": "code",
   "execution_count": 10,
   "metadata": {},
   "outputs": [
    {
     "name": "stdout",
     "output_type": "stream",
     "text": [
      "39.16588927956108\n",
      "6.398367319357034\n"
     ]
    }
   ],
   "source": [
    "print(np.mean(mean_pay))\n",
    "print(np.std(mean_pay))"
   ]
  },
  {
   "cell_type": "markdown",
   "metadata": {},
   "source": [
    "### Conditional"
   ]
  },
  {
   "cell_type": "code",
   "execution_count": 11,
   "metadata": {},
   "outputs": [],
   "source": [
    "#function for computing Black Scholes price\n",
    "def bs_price(vol, initial_price, r, T, K):\n",
    "    d1=np.log(initial_price/K) + (r+(vol*vol)/2)*T\n",
    "    d1=d1/(vol*np.sqrt(T))\n",
    "\n",
    "    d2=d1- vol*np.sqrt(T)\n",
    "\n",
    "    vanilla_price=initial_price*stats.norm.cdf(d1) - K*np.exp(-r*T)*stats.norm.cdf(d2)\n",
    "    return vanilla_price\n",
    "\n",
    "#volatility process and Zt\n",
    "def vol_Zt(initial_vol,theta, volvol ,T):\n",
    "    dt=T/n\n",
    "    \n",
    "    time=[0]*n\n",
    "    v=[0]*n\n",
    "    v[0]=initial_vol\n",
    "    Zt=[0]*n\n",
    "    dZ=[0]*n\n",
    "    \n",
    "    #generate the volatility process\n",
    "    for i in range(1,n):\n",
    "        time[i]=time[i-1]+dt\n",
    "        \n",
    "        Zt[i]=Zt[i-1]+np.random.normal(0,np.sqrt(dt))\n",
    "        dZ[i-1]=Zt[i]-Zt[i-1]\n",
    "        \n",
    "        vol_drift=k*(theta-v[i-1])\n",
    "        dv=vol_drift*dt + (volvol*np.sqrt(v[i-1])*dZ[i-1]) + ((volvol*volvol)/4)*((dZ[i-1]**2)-dt)\n",
    "        v[i]=v[i-1]+dv\n",
    "        \n",
    "    return np.array(v),Zt,dZ"
   ]
  },
  {
   "cell_type": "code",
   "execution_count": 12,
   "metadata": {},
   "outputs": [
    {
     "name": "stdout",
     "output_type": "stream",
     "text": [
      "12.210964441299438\n"
     ]
    }
   ],
   "source": [
    "#simulation for M, L times\n",
    "payoff=np.zeros(M)\n",
    "last_price=np.zeros(M)\n",
    "mean_pay=np.zeros(L)\n",
    "\n",
    "start = time.time()\n",
    "for x in range(L):\n",
    "    for i in range(M):\n",
    "        #v and brownian motion\n",
    "        v, Zt, dZ=vol_Zt(initial_vol,theta, volvol, T)\n",
    "        dt=T/n\n",
    "        \n",
    "        #Hull White formula for conditional expectation\n",
    "        v0=v.sum()*dt\n",
    "        v0=np.sqrt(v0/T)\n",
    "        \n",
    "        E=p*sum(np.sqrt(v)*dZ)-(((p**2)/2)*v0**2)*T\n",
    "        S0=initial_price*np.exp(E)\n",
    "\n",
    "        \n",
    "        #vol, initial_price, r, T, K\n",
    "        payoff[i]=bs_price(v0*np.sqrt(1-p**2),S0,0,T, K)\n",
    "       \n",
    "    mean_pay[x]=np.mean(payoff)\n",
    "    \n",
    "end = time.time()\n",
    "print(end-start)"
   ]
  },
  {
   "cell_type": "code",
   "execution_count": 13,
   "metadata": {},
   "outputs": [
    {
     "name": "stdout",
     "output_type": "stream",
     "text": [
      "37.37649419936506\n",
      "3.2113123805989274\n"
     ]
    }
   ],
   "source": [
    "print(np.mean(mean_pay))\n",
    "print(np.std(mean_pay))"
   ]
  },
  {
   "cell_type": "markdown",
   "metadata": {},
   "source": [
    "### Antithetics + Conditional Method"
   ]
  },
  {
   "cell_type": "code",
   "execution_count": 14,
   "metadata": {},
   "outputs": [],
   "source": [
    "import math\n",
    "def Heston_CD_A(initial_vol, k, theta, volvol, T):\n",
    "    n=1000\n",
    "    dt=T/n\n",
    "    time=[0]*n\n",
    "\n",
    "    v=[0]*n\n",
    "    v[0]=initial_vol\n",
    "    Zt=[0]*n\n",
    "    dZ=[0]*n\n",
    "    \n",
    "    v2=[0]*n\n",
    "    v2[0]=initial_vol\n",
    "    Zt2=[0]*n\n",
    "    dZ2=[0]*n\n",
    "\n",
    "    #generate volatility process and its antithetic \n",
    "    for i in range(1,n):\n",
    "        time[i]=time[i-1]+dt\n",
    "        \n",
    "        Zt[i]=Zt[i-1]+np.random.normal(0,np.sqrt(dt))\n",
    "        dZ[i-1]=Zt[i]-Zt[i-1]\n",
    "        dZ2[i-1]=-dZ[i-1]\n",
    "        Zt2[i]=Zt2[i-1]+dZ2[i-1]\n",
    "        \n",
    "        vol_drift=k*(theta-v[i-1])\n",
    "        vol_drift2=k*(theta-v2[i-1])\n",
    "        \n",
    "        dv=vol_drift*dt + (volvol*np.sqrt(v[i-1])*dZ[i-1]) + ((volvol*volvol)/4)*((dZ[i-1]**2)-dt)\n",
    "        dv2=vol_drift2*dt + (volvol*np.sqrt(v2[i-1])*dZ2[i-1]) + ((volvol*volvol)/4)*((dZ2[i-1]**2)-dt)\n",
    "    \n",
    "        v[i]=v[i-1]+dv  \n",
    "        v2[i]=v2[i-1]+dv2            \n",
    "    \n",
    "    return np.array(v),Zt,dZ, np.array(v2),Zt2,dZ2"
   ]
  },
  {
   "cell_type": "code",
   "execution_count": 15,
   "metadata": {},
   "outputs": [
    {
     "name": "stdout",
     "output_type": "stream",
     "text": [
      "17.97016954421997\n"
     ]
    }
   ],
   "source": [
    "#simulation for M, L times\n",
    "payoff=np.zeros(M)\n",
    "mean_pay=np.zeros(L)\n",
    "\n",
    "start = time.time()\n",
    "for x in range(L):\n",
    "    for i in range(M):\n",
    "        #compute M paths\n",
    "        v1,Zt1,dZ1,v2,Zt2,dZ2=Heston_CD_A(initial_vol, k, theta, volvol, T)\n",
    "                \n",
    "        #####1: compute first payoff\n",
    "        v0=v1.sum()*dt\n",
    "        v0=np.sqrt(v0/T)\n",
    "        \n",
    "        E=p*sum(np.sqrt(v1)*dZ1)-(((p**2)/2)*v0**2)*T\n",
    "        S0=initial_price*np.exp(E)\n",
    "        \n",
    "        #vol, initial_price, r, T, K\n",
    "        pay1=bs_price(v0*np.sqrt(1-p**2),S0,0,T, K)\n",
    "    \n",
    "        #####2 compute anithetic payoff\n",
    "        v0=v2.sum()*dt\n",
    "        v0=np.sqrt(v0/T)\n",
    "        \n",
    "        E=p*sum(np.sqrt(v2)*dZ2)-(((p**2)/2)*v0**2)*T\n",
    "        S0=initial_price*np.exp(E)\n",
    "        \n",
    "        #vol, initial_price, r, T, K\n",
    "        pay2=bs_price(v0*np.sqrt(1-p**2),S0,0,T, K) \n",
    "        \n",
    "        #take the average\n",
    "        payoff[i]=(pay1+pay2)/2\n",
    "        \n",
    "    mean_pay[x]=np.mean(payoff)\n",
    "\n",
    "end = time.time()\n",
    "\n",
    "print(end - start)"
   ]
  },
  {
   "cell_type": "code",
   "execution_count": 16,
   "metadata": {},
   "outputs": [
    {
     "name": "stdout",
     "output_type": "stream",
     "text": [
      "37.45943192467902\n",
      "0.8524807341527247\n"
     ]
    }
   ],
   "source": [
    "print(np.mean(mean_pay))\n",
    "print(np.std(mean_pay))"
   ]
  },
  {
   "cell_type": "markdown",
   "metadata": {},
   "source": [
    "### Control variate + Antithetics + Conditional"
   ]
  },
  {
   "cell_type": "code",
   "execution_count": 17,
   "metadata": {},
   "outputs": [
    {
     "name": "stdout",
     "output_type": "stream",
     "text": [
      "17.617993593215942\n"
     ]
    }
   ],
   "source": [
    "#simulation for M, L times\n",
    "payoff=np.zeros(M)\n",
    "last_vol=np.zeros(M)\n",
    "mean_pay=np.zeros(L)\n",
    "\n",
    "start = time.time()\n",
    "for x in range(L):\n",
    "    for i in range(M):\n",
    "        #compute M paths\n",
    "        v1,Zt1,dZ1,v2,Zt2,dZ2=Heston_CD_A(initial_vol, k, theta, volvol, T)\n",
    "        \n",
    "        #####1: first payoff\n",
    "        v0=v1.sum()*dt\n",
    "        v0=np.sqrt(v0/T)\n",
    "        \n",
    "        sqrt_v1=np.sqrt(v1)\n",
    "        E=p*sum(sqrt_v1*dZ1)-(((p**2)/2)*v0**2)*T\n",
    "        S0=initial_price*np.exp(E)\n",
    "        \n",
    "        #vol, initial_price, r, T, K\n",
    "        pay1=bs_price(v0*np.sqrt(1-p**2),S0,0,T, K)\n",
    "    \n",
    "        #####2: antithetic payoff\n",
    "        v0=v2.sum()*dt\n",
    "        v0=np.sqrt(v0/T)\n",
    "        \n",
    "        sqrt_v2=np.sqrt(v2)\n",
    "        E=p*sum(sqrt_v2*dZ2)-(((p**2)/2)*v0**2)*T\n",
    "        S0=initial_price*np.exp(E)\n",
    "        \n",
    "        #vol, initial_price, r, T, K\n",
    "        pay2=bs_price(v0*np.sqrt(1-p**2),S0,0,T, K) \n",
    "        \n",
    "        #antithetic payoff\n",
    "        payoff[i]=(pay1+pay2)/2\n",
    "        \n",
    "        #mean of last value of volatilities as control variate\n",
    "        last_vol[i]=(v1[-1]**2+v2[-1]**2)/2\n",
    "\n",
    "    #control variate estimator\n",
    "    Y=payoff\n",
    "    Z=last_vol\n",
    "    c=-np.cov(Y,Z)[0][1]/np.var(Z)\n",
    "  \n",
    "    #computing new estimator (vector of M estimations)\n",
    "    expected_v=(initial_vol*np.exp(-k*T))+theta*(1-np.exp(-k*T))\n",
    "    var_v=(initial_vol*((volvol**2)/k)*(np.exp(-k*T)-np.exp(-2*k*T))) + (((theta*(volvol**2))/(2*k))*((1-np.exp(-k*T))**2))\n",
    "    expected_v2=var_v+(expected_v**2)\n",
    "    control_variate=Y+c*(Z-expected_v2)\n",
    "\n",
    "    #now take mean of the M estimators to compute the Xth price\n",
    "    mean_pay[x]=np.mean(control_variate)\n",
    "\n",
    "end = time.time()\n",
    "\n",
    "print(end - start)"
   ]
  },
  {
   "cell_type": "code",
   "execution_count": 18,
   "metadata": {},
   "outputs": [
    {
     "name": "stdout",
     "output_type": "stream",
     "text": [
      "37.56961550391438\n",
      "0.40752814153153605\n"
     ]
    }
   ],
   "source": [
    "print(np.mean(mean_pay))\n",
    "print(np.std(mean_pay))"
   ]
  },
  {
   "cell_type": "code",
   "execution_count": null,
   "metadata": {},
   "outputs": [],
   "source": []
  }
 ],
 "metadata": {
  "kernelspec": {
   "display_name": "Python 3 (ipykernel)",
   "language": "python",
   "name": "python3"
  },
  "language_info": {
   "codemirror_mode": {
    "name": "ipython",
    "version": 3
   },
   "file_extension": ".py",
   "mimetype": "text/x-python",
   "name": "python",
   "nbconvert_exporter": "python",
   "pygments_lexer": "ipython3",
   "version": "3.9.12"
  }
 },
 "nbformat": 4,
 "nbformat_minor": 4
}
