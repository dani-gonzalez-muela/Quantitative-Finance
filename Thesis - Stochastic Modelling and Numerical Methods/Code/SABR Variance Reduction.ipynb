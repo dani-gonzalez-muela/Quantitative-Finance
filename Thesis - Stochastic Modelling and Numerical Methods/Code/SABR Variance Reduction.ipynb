{
 "cells": [
  {
   "cell_type": "markdown",
   "metadata": {},
   "source": [
    "dW0=W1-W0"
   ]
  },
  {
   "cell_type": "code",
   "execution_count": 3,
   "metadata": {},
   "outputs": [],
   "source": [
    "import numpy as np\n",
    "import matplotlib.pyplot as plt\n",
    "import random\n",
    "from scipy import stats\n",
    "import time"
   ]
  },
  {
   "cell_type": "markdown",
   "metadata": {},
   "source": [
    "### SABR model Monte Carlo simulation"
   ]
  },
  {
   "cell_type": "markdown",
   "metadata": {},
   "source": [
    "Monte Carlo methods (explained in the word) to estimate E[Payoff] and Var[E[Payoff]]. I will simulate L option prices, where each option price (L) will consist on the average of M simulated payoffs. \n",
    "\n",
    "The properties for these simulations will be:\n",
    "- Initial price of the stock/$F_0$: 250\n",
    "- Initial volatility/ $\\sigma_0$: 0.3\n",
    "- Volvol/ $\\alpha$: 0.2\n",
    "- B: 1\n",
    "- p: 0.15\n",
    "- K: 270\n",
    "- T: 1 year, with 1000 steps \n"
   ]
  },
  {
   "cell_type": "code",
   "execution_count": 4,
   "metadata": {},
   "outputs": [],
   "source": [
    "L=50 #simulated options\n",
    "M=50#prices per option\n",
    "\n",
    "#time\n",
    "T=1\n",
    "n=1000\n",
    "\n",
    "#parameters \n",
    "initial_price=250\n",
    "initial_vol=0.3\n",
    "volvol=0.2 \n",
    "Beta=1\n",
    "p=0.0\n",
    "K=270\n",
    "\n",
    "#risk-free rate\n",
    "r=0"
   ]
  },
  {
   "cell_type": "markdown",
   "metadata": {},
   "source": [
    "### Accrued Monte Carlo"
   ]
  },
  {
   "cell_type": "markdown",
   "metadata": {},
   "source": [
    "Simulating an asset F following the SABR model"
   ]
  },
  {
   "cell_type": "markdown",
   "metadata": {},
   "source": [
    "$\\sigma_t = \\sigma_0 \\exp(-(\\alpha^2/2)t + \\alpha Z_t) $\n",
    "\n",
    "$dW_t= pdZ_t + \\sqrt(1-p^2)dB_t$\n",
    "\n",
    "$dF_t = \\sigma_t F_t^\\beta  dW_t  $"
   ]
  },
  {
   "cell_type": "code",
   "execution_count": 5,
   "metadata": {},
   "outputs": [],
   "source": [
    "#initial_price, initial volatility, volvol, Beta, maturity, correlation\n",
    "def SABR_accrued(initial_price, initial_vol, volvol, Beta,T, p):\n",
    "    dt=T/n\n",
    "    time=[0]*n\n",
    "    sigma=[0]*n\n",
    "    sigma[0]=initial_vol\n",
    "    Zt=[0]*n\n",
    "    Bt=[0]*n\n",
    "    F=[0]*n\n",
    "    F[0]=initial_price\n",
    "    \n",
    "    for i in range(1,n):\n",
    "        #update time\n",
    "        time[i]=time[i-1]+dt\n",
    "        \n",
    "        #generate sigma[i]\n",
    "        Zt[i]=Zt[i-1]+np.random.normal(0,np.sqrt(dt))\n",
    "        dZ=Zt[i]-Zt[i-1]\n",
    "        \n",
    "        dsigma=(volvol*sigma[i-1]*dZ)\n",
    "        sigma[i]=sigma[i-1]+dsigma\n",
    "        #sigma[i]=sigma[0]*np.exp((-((volvol**2)/2)*time[i])+(volvol*Zt[i]))\n",
    "    \n",
    "        #generate the correlated brownian dW\n",
    "        Bt[i]=Bt[i-1]+np.random.normal(0,np.sqrt(dt)) \n",
    "        dB=Bt[i]-Bt[i-1]\n",
    "        dW=(p*dZ + np.sqrt(1-p**2)*dB)\n",
    "        \n",
    "        #generate the price F\n",
    "        dF=sigma[i-1]*(F[i-1]**Beta)*dW\n",
    "        F[i]=F[i-1]+dF\n",
    "                       \n",
    "    return F"
   ]
  },
  {
   "cell_type": "code",
   "execution_count": 6,
   "metadata": {},
   "outputs": [
    {
     "name": "stdout",
     "output_type": "stream",
     "text": [
      "20.934510707855225\n"
     ]
    }
   ],
   "source": [
    "#simulation of M payoffs, L times for each M payoff\n",
    "last_price=np.zeros(M) #array of M last stock prices\n",
    "payoff=np.zeros(M) #array of M payoffs\n",
    "\n",
    "mean_pay=np.zeros(L) #an array of size L with the average payoff. Taking L time the average payoff of M simulations\n",
    "\n",
    "start = time.time() #timer\n",
    "\n",
    "for x in range(L):\n",
    "    for i in range(M):\n",
    "        #compute M stock paths\n",
    "        last_price[i]=SABR_accrued(initial_price, initial_vol, volvol, Beta, T, p)[-1]\n",
    "        \n",
    "    #computing payoff of the M stock prices\n",
    "    payoff=last_price-K\n",
    "    payoff[payoff<0]=0\n",
    "    \n",
    "    #present value of the average payoff\n",
    "    mean_pay[x]=np.exp(-r*T)*np.mean(payoff)\n",
    "\n",
    "end = time.time()\n",
    "\n",
    "print(end - start)"
   ]
  },
  {
   "cell_type": "markdown",
   "metadata": {},
   "source": [
    "Mean and variance of the option payoff"
   ]
  },
  {
   "cell_type": "code",
   "execution_count": 7,
   "metadata": {},
   "outputs": [
    {
     "name": "stdout",
     "output_type": "stream",
     "text": [
      "22.678443238834987\n",
      "6.132768646993872\n"
     ]
    }
   ],
   "source": [
    "print(np.mean(mean_pay))\n",
    "print(np.std(mean_pay))"
   ]
  },
  {
   "cell_type": "markdown",
   "metadata": {},
   "source": [
    "### Control variate Method"
   ]
  },
  {
   "cell_type": "markdown",
   "metadata": {},
   "source": [
    "$\\theta_c = Y + c (Z - E(Z))$\n",
    "\n",
    "Where \n",
    "\n",
    "$Y= h(F_T)=max(F_T-K,0)$ \n",
    "\n",
    "$Z= F_T $\n",
    "\n",
    "$E(Z)= F_0 exp(rT)=F_0$\n",
    "\n",
    "$c=Cov(h(F_T),F_T)/Var(F_t)$\n"
   ]
  },
  {
   "cell_type": "code",
   "execution_count": 8,
   "metadata": {},
   "outputs": [
    {
     "name": "stdout",
     "output_type": "stream",
     "text": [
      "20.63029909133911\n"
     ]
    }
   ],
   "source": [
    "payoff=np.zeros(M)\n",
    "last_price=np.zeros(M)\n",
    "mean_pay=np.zeros(L)\n",
    "\n",
    "start = time.time()\n",
    "for x in range(L):\n",
    "    for i in range(M):\n",
    "        #compute M paths\n",
    "        last_price[i]=SABR_accrued(initial_price, initial_vol, volvol, Beta,T, p)[-1]\n",
    "\n",
    "    #computing payoff\n",
    "    payoff=last_price-K\n",
    "    payoff[payoff<0]=0\n",
    "    \n",
    "    #control variate\n",
    "    Y=np.exp(-r*T)*payoff #present value of the payoffs\n",
    "    Z=last_price #our control variate\n",
    "    c=-np.cov(Y,Z)[0][1]/np.var(Z)\n",
    "    control_variate=Y+c*(Z-(initial_price*np.exp(r*T)))\n",
    "    \n",
    "    mean_pay[x]=np.mean(control_variate)\n",
    "\n",
    "end = time.time()\n",
    "\n",
    "print(end-start)"
   ]
  },
  {
   "cell_type": "code",
   "execution_count": 9,
   "metadata": {},
   "outputs": [
    {
     "name": "stdout",
     "output_type": "stream",
     "text": [
      "20.800787157643544\n",
      "3.110218722212828\n"
     ]
    }
   ],
   "source": [
    "print(np.mean(mean_pay))\n",
    "print(np.std(mean_pay))"
   ]
  },
  {
   "cell_type": "markdown",
   "metadata": {},
   "source": [
    "### Antithetic Variates Method"
   ]
  },
  {
   "cell_type": "markdown",
   "metadata": {},
   "source": [
    "$\\hat{\\theta} = (Y + Y2)/2$\n",
    "\n",
    "Where \n",
    "\n",
    "$Y= h(F_T)$ \n",
    "\n",
    "$Y2= h(F_Tneg)$ \n"
   ]
  },
  {
   "cell_type": "code",
   "execution_count": 10,
   "metadata": {},
   "outputs": [],
   "source": [
    "def SABR_antithetic(initial_price, initial_vol, volvol, Beta,T, p):\n",
    "    T=T\n",
    "    n=1000\n",
    "    dt=T/n\n",
    "    \n",
    "    time=[0]*n\n",
    "    Zt=[0]*n\n",
    "    Bt=[0]*n\n",
    "    \n",
    "    sigma=[0]*n\n",
    "    sigma[0]=initial_vol\n",
    "    \n",
    "    sigma_neg=[0]*n #antithetic\n",
    "    sigma_neg[0]=initial_vol #antithetic\n",
    "    \n",
    "    F=[0]*n\n",
    "    F[0]=initial_price   \n",
    "    F_neg=[0]*n #antithetic\n",
    "    F_neg[0]=initial_price #antithetic\n",
    "    \n",
    "    for i in range(1,n):\n",
    "        time[i]=time[i-1]+dt # update time\n",
    "        \n",
    "        #generate volatility processes \n",
    "        Zt[i]=Zt[i-1]+np.random.normal(0,np.sqrt(dt))\n",
    "        dZ=Zt[i]-Zt[i-1]\n",
    "        \n",
    "        dsigma=(volvol*sigma[i-1]*(dZ))\n",
    "        sigma[i]=sigma[i-1]+dsigma  \n",
    "        \n",
    "        dsigma_neg=(volvol*sigma_neg[i-1]*(-dZ))\n",
    "        sigma_neg[i]=sigma_neg[i-1]+dsigma_neg\n",
    "        \n",
    "        #correlated brownian motion dWt and its antithetic\n",
    "        Bt[i]=Bt[i-1]+np.random.normal(0,np.sqrt(dt))\n",
    "        dB=Bt[i]-Bt[i-1]\n",
    "        dW=p*dZ + np.sqrt(1-p**2)*dB\n",
    "        dW_neg=p*-dZ + np.sqrt(1-p**2)*-dB\n",
    "        \n",
    "        #price generation\n",
    "        dF=(sigma[i-1]*(F[i-1]**Beta)*(dW))\n",
    "        dF_neg=(sigma_neg[i-1]*(F_neg[i-1]**Beta)*(dW_neg))\n",
    "        \n",
    "        F[i]=F[i-1]+dF\n",
    "        F_neg[i]=F_neg[i-1]+dF_neg\n",
    "                \n",
    "            \n",
    "    return F[-1],F_neg[-1]"
   ]
  },
  {
   "cell_type": "code",
   "execution_count": 11,
   "metadata": {},
   "outputs": [
    {
     "name": "stdout",
     "output_type": "stream",
     "text": [
      "25.23353910446167\n"
     ]
    }
   ],
   "source": [
    "#simulation for M, L times\n",
    "payoff=np.zeros(M)\n",
    "last_price=np.zeros(M)\n",
    "last_price_antithetic=np.zeros(M)\n",
    "mean_pay=np.zeros(L)\n",
    "\n",
    "start = time.time()\n",
    "for x in range(L):\n",
    "    for i in range(M):\n",
    "        #compute M paths\n",
    "        last_price[i],last_price_antithetic[i]=SABR_antithetic(initial_price, initial_vol, volvol, Beta,T, p)\n",
    "\n",
    "    #computing payoff\n",
    "    payoff=np.exp(-r*T)*np.maximum(last_price-K,0)\n",
    "    \n",
    "    #computing antithetic payoff\n",
    "    antithetic_payoff=np.exp(-r*T)*np.maximum(last_price_antithetic-K,0)\n",
    "    \n",
    "    #estimator\n",
    "    estimator=(payoff+antithetic_payoff)/2\n",
    "    mean_pay[x]=np.mean(estimator)\n",
    "    \n",
    "end = time.time()\n",
    "\n",
    "print(end-start)"
   ]
  },
  {
   "cell_type": "code",
   "execution_count": 12,
   "metadata": {},
   "outputs": [
    {
     "name": "stdout",
     "output_type": "stream",
     "text": [
      "20.946893549904594\n",
      "3.4746936625848384\n"
     ]
    }
   ],
   "source": [
    "print(np.mean(mean_pay))\n",
    "print(np.std(mean_pay))"
   ]
  },
  {
   "cell_type": "markdown",
   "metadata": {},
   "source": [
    "### Conditional"
   ]
  },
  {
   "cell_type": "code",
   "execution_count": 21,
   "metadata": {},
   "outputs": [],
   "source": [
    "#function for computing Black Scholes price\n",
    "def bs_price(vol, initial_price, r, T, K):\n",
    "    d1=np.log(initial_price/K) + (r+(vol*vol)/2)*T\n",
    "    d1=d1/(vol*np.sqrt(T))\n",
    "\n",
    "    d2=d1- vol*np.sqrt(T)\n",
    "\n",
    "    vanilla_price=initial_price*stats.norm.cdf(d1) - K*np.exp(-r*T)*stats.norm.cdf(d2)\n",
    "    return vanilla_price\n",
    "\n",
    "#volatility process and Zt\n",
    "def vol_Zt(initial_vol, volvol, T):\n",
    "    n=1000\n",
    "    dt=T/n\n",
    "    \n",
    "    time=[0]*n\n",
    "    sigma=[0]*n\n",
    "    sigma[0]=initial_vol\n",
    "    Zt=[0]*n\n",
    "    dZ=[0]*n\n",
    "\n",
    "    #generate the volatility process\n",
    "    for i in range(1,n):\n",
    "        time[i]=time[i-1]+dt\n",
    "        Zt[i]=Zt[i-1]+np.random.normal(0,np.sqrt(dt))\n",
    "        dZ[i-1]=Zt[i]-Zt[i-1]\n",
    "        \n",
    "        dsigma=(volvol*sigma[i-1]*dZ[i-1])\n",
    "        sigma[i]=sigma[i-1]+dsigma\n",
    "        #sigma[i]=sigma[0]*np.exp((-((volvol**2)/2)*time[i])+(volvol*Zt[i]))\n",
    "    return np.array(sigma),Zt,dZ"
   ]
  },
  {
   "cell_type": "code",
   "execution_count": 22,
   "metadata": {},
   "outputs": [
    {
     "name": "stdout",
     "output_type": "stream",
     "text": [
      "9.716392517089844\n"
     ]
    }
   ],
   "source": [
    "payoff=np.zeros(M)\n",
    "mean_pay=np.zeros(L)\n",
    "\n",
    "start = time.time()\n",
    "for x in range(L):\n",
    "    for i in range(M):\n",
    "    #sigma and brownian motion\n",
    "        sigma, Zt, dZ=vol_Zt(initial_vol, volvol, T)\n",
    "        dt=T/n\n",
    "\n",
    "        #Hull White formula for conditional expectation\n",
    "        sigma_2=sigma**2\n",
    "        v0=sigma_2.sum()*dt \n",
    "        v0=np.sqrt(v0/T)\n",
    "\n",
    "        E=p*sum(sigma*dZ)-(((p**2)/2)*v0**2)*T\n",
    "        S0=initial_price*np.exp(E)\n",
    "\n",
    "        #vol, initial_price, r, T, K\n",
    "        payoff[i]=bs_price(v0*np.sqrt(1-p**2),S0,0,T, K)\n",
    "    mean_pay[x]=np.mean(payoff)\n",
    "\n",
    "end = time.time()\n",
    "print(end - start)"
   ]
  },
  {
   "cell_type": "code",
   "execution_count": 23,
   "metadata": {},
   "outputs": [
    {
     "name": "stdout",
     "output_type": "stream",
     "text": [
      "22.11853810196485\n",
      "0.45333546553379156\n"
     ]
    }
   ],
   "source": [
    "print(np.mean(mean_pay))\n",
    "print(np.std(mean_pay))"
   ]
  },
  {
   "cell_type": "markdown",
   "metadata": {},
   "source": [
    "### Antithetic + Conditional Method"
   ]
  },
  {
   "cell_type": "code",
   "execution_count": 24,
   "metadata": {},
   "outputs": [],
   "source": [
    "def SABR_CD_A(initial_vol, volvol, T):\n",
    "    n=1000\n",
    "    dt=T/n \n",
    "    time=[0]*n\n",
    "    \n",
    "    sigma1=[0]*n\n",
    "    sigma1[0]=initial_vol\n",
    "    Zt1=[0]*n\n",
    "    dZ1=[0]*n\n",
    "    \n",
    "    sigma2=[0]*n\n",
    "    sigma2[0]=initial_vol\n",
    "    Zt2=[0]*n\n",
    "    dZ2=[0]*n   \n",
    "\n",
    "    #generate the volatility process and its antithetic\n",
    "    for i in range(1,n):\n",
    "        time[i]=time[i-1]+dt\n",
    "        \n",
    "        Zt1[i]=Zt1[i-1]+np.random.normal(0,np.sqrt(dt))\n",
    "        dZ1[i-1]=Zt1[i]-Zt1[i-1]\n",
    "        dZ2[i-1]=-dZ1[i-1]\n",
    "        Zt2[i]=Zt2[i-1]+dZ2[i-1]\n",
    "        \n",
    "        #sigma1[i]=sigma1[0]*np.exp((-((volvol**2)/2)*time[i])+(volvol*Zt1[i]))\n",
    "        #sigma2[i]=sigma2[0]*np.exp((-((volvol**2)/2)*time[i])+(volvol*Zt2[i]))\n",
    "        dsigma1=(volvol*sigma1[i-1]*dZ1[i-1])\n",
    "        sigma1[i]=sigma1[i-1]+dsigma1\n",
    "        \n",
    "        dsigma2=(volvol*sigma2[i-1]*dZ2[i-1])\n",
    "        sigma2[i]=sigma2[i-1]+dsigma2\n",
    "        \n",
    "    return np.array(sigma1),Zt1,dZ1, np.array(sigma2),Zt2,dZ2"
   ]
  },
  {
   "cell_type": "code",
   "execution_count": 25,
   "metadata": {},
   "outputs": [
    {
     "name": "stdout",
     "output_type": "stream",
     "text": [
      "11.375790357589722\n"
     ]
    }
   ],
   "source": [
    "#simulation for M, L times\n",
    "payoff=np.zeros(M)\n",
    "mean_pay=np.zeros(L)\n",
    "\n",
    "start = time.time()\n",
    "for x in range(L):\n",
    "    for i in range(M):\n",
    "        #compute M paths\n",
    "        sigma1,Zt1,dZ1,sigma2,Zt2,dZ2=SABR_CD_A(initial_vol, volvol, T)\n",
    "        dt=T/n\n",
    "        #####1: first payoff\n",
    "        sigma1_2=sigma1**2\n",
    "        v0=sigma1_2.sum()*dt\n",
    "        v0=np.sqrt(v0/T)\n",
    "        \n",
    "        E=p*sum(sigma1*dZ1)-(((p**2)/2)*v0**2)*T\n",
    "        S0=initial_price*np.exp(E)\n",
    "        \n",
    "        #vol, initial_price, r, T, K\n",
    "        pay1=bs_price(v0*np.sqrt(1-p**2),S0,0,T, K)\n",
    "    \n",
    "        #####2: antithetic payoff\n",
    "        sigma2_2=sigma2**2\n",
    "        v0=sigma2_2.sum()*dt\n",
    "        v0=np.sqrt(v0/T)\n",
    "        \n",
    "        E=p*sum(sigma2*dZ2)-(((p**2)/2)*v0**2)*T\n",
    "        S0=initial_price*np.exp(E)\n",
    "        \n",
    "        #vol, initial_price, r, T, K\n",
    "        pay2=bs_price(v0*np.sqrt(1-p**2),S0,0,T, K) \n",
    "        \n",
    "        #antithetic payoff\n",
    "        payoff[i]=(pay1+pay2)/2\n",
    "        \n",
    "    mean_pay[x]=np.mean(payoff)\n",
    "\n",
    "end = time.time()\n",
    "\n",
    "print(end - start)"
   ]
  },
  {
   "cell_type": "code",
   "execution_count": 26,
   "metadata": {},
   "outputs": [
    {
     "name": "stdout",
     "output_type": "stream",
     "text": [
      "22.120255553707285\n",
      "0.059701046942053165\n"
     ]
    }
   ],
   "source": [
    "print(np.mean(mean_pay))\n",
    "print(np.std(mean_pay))"
   ]
  },
  {
   "cell_type": "markdown",
   "metadata": {},
   "source": [
    "### Control variate + Antithetics + Conditional"
   ]
  },
  {
   "cell_type": "code",
   "execution_count": 27,
   "metadata": {},
   "outputs": [
    {
     "name": "stdout",
     "output_type": "stream",
     "text": [
      "11.486400842666626\n"
     ]
    }
   ],
   "source": [
    "#simulation for M, L times\n",
    "payoff=np.zeros(M)\n",
    "last_vol=np.zeros(M)\n",
    "mean_pay=np.zeros(L)\n",
    "\n",
    "start = time.time()\n",
    "for x in range(L):\n",
    "    for i in range(M):\n",
    "        #compute M paths\n",
    "        sigma1,Zt1,dZ1,sigma2,Zt2,dZ2=SABR_CD_A(initial_vol, volvol, T)\n",
    "        \n",
    "        dt=T/n\n",
    "        #####1: first payoff\n",
    "        sigma1_2=sigma1**2\n",
    "        v0=sigma1_2.sum()*dt\n",
    "        v0=np.sqrt(v0/T)\n",
    "        \n",
    "        E=p*sum(sigma1*dZ1)-(((p**2)/2)*v0**2)*T\n",
    "        S0=initial_price*np.exp(E)\n",
    "        \n",
    "        #vol, initial_price, r, T, K\n",
    "        pay1=bs_price(v0*np.sqrt(1-p**2),S0,0,T, K)\n",
    "    \n",
    "        #####2: antithetic payoff\n",
    "        sigma2_2=sigma2**2\n",
    "        v0=sigma2_2.sum()*dt\n",
    "        v0=np.sqrt(v0/T)\n",
    "        \n",
    "        E=p*sum(sigma2*dZ2)-(((p**2)/2)*v0**2)*T\n",
    "        S0=initial_price*np.exp(E)\n",
    "        \n",
    "        #vol, initial_price, r, T, K\n",
    "        pay2=bs_price(v0*np.sqrt(1-p**2),S0,0,T, K) \n",
    "        \n",
    "        #antithetic payoff\n",
    "        payoff[i]=(pay1+pay2)/2\n",
    "        \n",
    "        #mean of last value of volatilities as control variate\n",
    "        last_vol[i]=(sigma1[-1]**2+sigma2[-1]**2)/2\n",
    "    \n",
    "    #antithetics\n",
    "    Y=payoff\n",
    "    Z=last_vol\n",
    "    c=-np.cov(Y,Z)[0][1]/np.var(Z)\n",
    "    \n",
    "    \n",
    "    expected_sigma=initial_vol\n",
    "    var_sigma=initial_vol**2*(np.exp(volvol*volvol*T)-1)\n",
    "    expected_sigma2=var_sigma+(expected_sigma**2)\n",
    "    \n",
    "    #computing new estimator (vector of M estimations)\n",
    "    control_variate=Y+c*(Z-expected_sigma2)\n",
    "\n",
    "    #now take mean of the M estimators to compute the Xth price\n",
    "    mean_pay[x]=np.mean(control_variate)\n",
    "\n",
    "end = time.time()\n",
    "\n",
    "print(end - start)"
   ]
  },
  {
   "cell_type": "code",
   "execution_count": 28,
   "metadata": {},
   "outputs": [
    {
     "name": "stdout",
     "output_type": "stream",
     "text": [
      "22.112443112839436\n",
      "0.03315541226084339\n"
     ]
    }
   ],
   "source": [
    "print(np.mean(mean_pay))\n",
    "print(np.std(mean_pay))"
   ]
  },
  {
   "cell_type": "code",
   "execution_count": null,
   "metadata": {},
   "outputs": [],
   "source": []
  },
  {
   "cell_type": "code",
   "execution_count": null,
   "metadata": {},
   "outputs": [],
   "source": []
  }
 ],
 "metadata": {
  "kernelspec": {
   "display_name": "Python 3 (ipykernel)",
   "language": "python",
   "name": "python3"
  },
  "language_info": {
   "codemirror_mode": {
    "name": "ipython",
    "version": 3
   },
   "file_extension": ".py",
   "mimetype": "text/x-python",
   "name": "python",
   "nbconvert_exporter": "python",
   "pygments_lexer": "ipython3",
   "version": "3.9.12"
  }
 },
 "nbformat": 4,
 "nbformat_minor": 4
}
